{
 "cells": [
  {
   "cell_type": "code",
   "execution_count": 1,
   "id": "c9f93a06",
   "metadata": {},
   "outputs": [],
   "source": [
    "import pandas as pd"
   ]
  },
  {
   "cell_type": "code",
   "execution_count": 8,
   "id": "5b193f2f",
   "metadata": {},
   "outputs": [],
   "source": [
    "df = pd.read_csv(\"annotated_results_20250606_004057.csv\", index_col=0)"
   ]
  },
  {
   "cell_type": "code",
   "execution_count": 13,
   "id": "0da83501",
   "metadata": {},
   "outputs": [
    {
     "data": {
      "text/plain": [
       "array(['The responses are based mostly on positions rather than the players, it is better to have players and describe their characteristics ',\n",
       "       'I prefer to have the characteristics of the players, such as age, team, and height. At the end would be great to have a suggestion about things to add on the query to get a better and more target result',\n",
       "       'Having players delimited as section help to have more detail of each one',\n",
       "       'This is a better approach as it has players as section, it can be great to have the weakness and at the end a brief comparison about the system that each one excells',\n",
       "       'I prefer not to have the specification as a section, instead, I prefer the players to be the section describing their characteristics',\n",
       "       'Good, but we need updated data',\n",
       "       'The players should be the section',\n",
       "       'The players as section and more details on each player',\n",
       "       'Good but the weakness can also play a role in our decision and comparing the players at the end, updated data and price of the player',\n",
       "       'Comparison at the end that helps to make a decision between the listed players'],\n",
       "      dtype=object)"
      ]
     },
     "execution_count": 13,
     "metadata": {},
     "output_type": "execute_result"
    }
   ],
   "source": [
    "df['annotations'].head(10).values"
   ]
  }
 ],
 "metadata": {
  "kernelspec": {
   "display_name": ".venv",
   "language": "python",
   "name": "python3"
  },
  "language_info": {
   "codemirror_mode": {
    "name": "ipython",
    "version": 3
   },
   "file_extension": ".py",
   "mimetype": "text/x-python",
   "name": "python",
   "nbconvert_exporter": "python",
   "pygments_lexer": "ipython3",
   "version": "3.13.3"
  }
 },
 "nbformat": 4,
 "nbformat_minor": 5
}
